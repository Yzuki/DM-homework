{
 "cells": [
  {
   "cell_type": "markdown",
   "id": "49bf4fd0",
   "metadata": {},
   "source": [
    "Suppose there are 4 baskets, each is represented as a list. The items are marked as 1,2,3,4 and 5. Items that appear no less than twice(support>=2) are frequent items. The baskets are initialized as below:"
   ]
  },
  {
   "cell_type": "code",
   "execution_count": 7,
   "id": "c2431240",
   "metadata": {},
   "outputs": [],
   "source": [
    "baskets = [[1,2,5],[2,4],[2,3],[1,2,4],[1,3],[2,3],[1,3],[1,2,3,5],[1,2,3]]\n",
    "C_0 = [[1],[2],[3],[4],[5]]   #itemsets"
   ]
  },
  {
   "cell_type": "markdown",
   "id": "c8827118",
   "metadata": {},
   "source": [
    "In the first pass, count the support of each item:"
   ]
  },
  {
   "cell_type": "code",
   "execution_count": 9,
   "id": "3bf8f93d",
   "metadata": {},
   "outputs": [
    {
     "name": "stdout",
     "output_type": "stream",
     "text": [
      "[6, 7, 6, 2, 2]\n"
     ]
    }
   ],
   "source": [
    "def count_sup(baskets,C):\n",
    "    sup = []\n",
    "    for item in C:\n",
    "        ct = 0\n",
    "        for basket in baskets:\n",
    "            if(set(item).issubset(basket)):   #if the item appears in the basket\n",
    "                ct += 1\n",
    "        sup.append(ct)\n",
    "    return sup\n",
    "sup_0 = count_sup(baskets,C_0)\n",
    "print(sup_0)"
   ]
  },
  {
   "cell_type": "markdown",
   "id": "4fffaa95",
   "metadata": {},
   "source": [
    "Then, prune the non-frequent itemsets:"
   ]
  },
  {
   "cell_type": "code",
   "execution_count": 15,
   "id": "f8a47aaf",
   "metadata": {},
   "outputs": [
    {
     "name": "stdout",
     "output_type": "stream",
     "text": [
      "[[1], [2], [3], [4], [5]]\n",
      "[]\n"
     ]
    }
   ],
   "source": [
    "def prune(C,sup,freq = 2):\n",
    "    L = []\n",
    "    pruned = []\n",
    "    for i in range(len(C)):\n",
    "        if(sup[i]>=freq):\n",
    "            L.append(C[i])\n",
    "        else:\n",
    "            pruned.append(C[i])\n",
    "    return L,pruned\n",
    "L_0,pruned = prune(C_0,sup_0)\n",
    "print(L_0)\n",
    "print(pruned)"
   ]
  },
  {
   "cell_type": "markdown",
   "id": "1b7237c8",
   "metadata": {},
   "source": [
    "In each iteration, the new itemsets are generated using the following function:"
   ]
  },
  {
   "cell_type": "code",
   "execution_count": 24,
   "id": "ed6b7039",
   "metadata": {},
   "outputs": [
    {
     "name": "stdout",
     "output_type": "stream",
     "text": [
      "[[1, 2], [1, 3], [1, 4], [1, 5], [2, 3], [2, 4], [2, 5], [3, 4], [3, 5], [4, 5]]\n"
     ]
    }
   ],
   "source": [
    "pruned_sets = pruned\n",
    "def generate(L,pruned_sets):\n",
    "    new_C = []\n",
    "    for i in range(len(L)):\n",
    "        for j in range(i+1,len(L)):\n",
    "            tmp = set(L[i]+L[j])\n",
    "            checklist = new_C + pruned_sets   # check repetition, also check the subsets\n",
    "            checked = True\n",
    "            for check in checklist:\n",
    "                if (set(check).issubset(tmp)):  # Repetition or subset non-frequent\n",
    "                    checked = False\n",
    "                    break\n",
    "            if(checked):\n",
    "                new_C.append(sorted(list(tmp)))\n",
    "    return new_C\n",
    "print(generate(L_0,pruned_sets))"
   ]
  },
  {
   "cell_type": "markdown",
   "id": "229dcfe6",
   "metadata": {},
   "source": [
    "Each step is summarized as the following function:"
   ]
  },
  {
   "cell_type": "code",
   "execution_count": 32,
   "id": "81bf626a",
   "metadata": {},
   "outputs": [
    {
     "name": "stdout",
     "output_type": "stream",
     "text": [
      "[]\n",
      "[[1], [2], [3], [4], [5]]\n"
     ]
    }
   ],
   "source": [
    "pruned_sets = []\n",
    "def update(baskets,C,pruned_sets,freq=2):\n",
    "    sup = count_sup(baskets,C)\n",
    "    L,pruned = prune(C,sup,freq)\n",
    "    pruned_sets = pruned_sets + pruned\n",
    "    new_C = generate(L,pruned_sets)\n",
    "    return new_C,pruned_sets\n",
    "C_1,pruned_sets = update(baskets,C_0,pruned_sets)\n",
    "print(C_1)\n",
    "print(pruned_sets)"
   ]
  },
  {
   "cell_type": "markdown",
   "id": "4240be59",
   "metadata": {},
   "source": [
    "Therefore, the A-priori algorithm is implemented as follows:"
   ]
  },
  {
   "cell_type": "code",
   "execution_count": 34,
   "id": "cad19c1b",
   "metadata": {},
   "outputs": [
    {
     "name": "stdout",
     "output_type": "stream",
     "text": [
      "[[1, 2], [1, 3], [1, 4], [1, 5], [2, 3], [2, 4], [2, 5], [3, 4], [3, 5], [4, 5]]\n",
      "[[1, 2, 3], [1, 2, 5]]\n",
      "[]\n"
     ]
    }
   ],
   "source": [
    "baskets = [[1,2,5],[2,4],[2,3],[1,2,4],[1,3],[2,3],[1,3],[1,2,3,5],[1,2,3]]\n",
    "C = [[1],[2],[3],[4],[5]] \n",
    "non_frequent = []\n",
    "while(True):\n",
    "    C,non_frequent = update(baskets,C,non_frequent)\n",
    "    print(C)\n",
    "    if(len(C)==0):  #terminate when there is no itemset left in C\n",
    "        break"
   ]
  },
  {
   "cell_type": "markdown",
   "id": "75bbd3ae",
   "metadata": {},
   "source": [
    "Using the example in the slides:"
   ]
  },
  {
   "cell_type": "code",
   "execution_count": 39,
   "id": "850d9e65",
   "metadata": {},
   "outputs": [
    {
     "name": "stdout",
     "output_type": "stream",
     "text": [
      "[['b', 'm'], ['c', 'm'], ['j', 'm'], ['b', 'c'], ['b', 'j'], ['c', 'j']]\n",
      "[['b', 'c', 'm']]\n",
      "[]\n"
     ]
    }
   ],
   "source": [
    "baskets = [['m','c','b'],['m','p','j'],['m','c','b','n'],['c','j'],['m','p','b'],['m','c','b','j'],['c','b','j'],['b','c']]\n",
    "C = [['m'],['b'],['c'],['p'],['j'],['n']] \n",
    "freq = 3\n",
    "non_frequent = []\n",
    "while(True):\n",
    "    C,non_frequent = update(baskets,C,non_frequent,freq)\n",
    "    print(C)\n",
    "    if(len(C)==0):  #terminate when there is no itemset left in C\n",
    "        break"
   ]
  },
  {
   "cell_type": "code",
   "execution_count": null,
   "id": "401d8242",
   "metadata": {},
   "outputs": [],
   "source": []
  }
 ],
 "metadata": {
  "kernelspec": {
   "display_name": "Python 3",
   "language": "python",
   "name": "python3"
  },
  "language_info": {
   "codemirror_mode": {
    "name": "ipython",
    "version": 3
   },
   "file_extension": ".py",
   "mimetype": "text/x-python",
   "name": "python",
   "nbconvert_exporter": "python",
   "pygments_lexer": "ipython3",
   "version": "3.8.8"
  }
 },
 "nbformat": 4,
 "nbformat_minor": 5
}
