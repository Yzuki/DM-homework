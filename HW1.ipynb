{
 "cells": [
  {
   "attachments": {
    "image.png": {
     "image/png": "[encoded data removed]"
    }
   },
   "cell_type": "markdown",
   "id": "bfc21519",
   "metadata": {},
   "source": [
    "The example is from the Figure 5.7 of the textbook\n",
    "\n",
    "![image.png](attachment:image.png)\n",
    "\n",
    "β  is  set to 0.8 and the transition matrix is provided:"
   ]
  },
  {
   "cell_type": "code",
   "execution_count": 68,
   "id": "af4a403e",
   "metadata": {},
   "outputs": [],
   "source": [
    "import numpy as np\n",
    "num_of_nodes = 3\n",
    "beta = 0.8\n",
    "m = np.array([[0.33333333,0.5,0],\n",
    "              [0.33333333,0,0.5],\n",
    "              [0.33333333,0.5,0.5]],\n",
    "             dtype=float)"
   ]
  },
  {
   "cell_type": "markdown",
   "id": "5a5d0950",
   "metadata": {},
   "source": [
    "First the pagerank for each node is initialized:"
   ]
  },
  {
   "cell_type": "code",
   "execution_count": 70,
   "id": "662df4fb",
   "metadata": {},
   "outputs": [
    {
     "name": "stdout",
     "output_type": "stream",
     "text": [
      "[0.33333333 0.33333333 0.33333333]\n"
     ]
    }
   ],
   "source": [
    "def init_pr(num_nodes):\n",
    "    pr = np.ones((num_nodes,1),dtype=float) / num_nodes\n",
    "    return pr\n",
    "pr = init_pr(num_of_nodes)\n",
    "print(pr.flatten())"
   ]
  },
  {
   "attachments": {},
   "cell_type": "markdown",
   "id": "d07051d4",
   "metadata": {},
   "source": [
    "The formula for calculating Pagerank is: v' = βMv + (1-β)e/n\n",
    "\n",
    "After 10 iterations, we output the resulting pagerank:"
   ]
  },
  {
   "cell_type": "code",
   "execution_count": 72,
   "id": "57d4dbe4",
   "metadata": {},
   "outputs": [
    {
     "name": "stdout",
     "output_type": "stream",
     "text": [
      "[0.259259   0.30864234 0.43209865]\n"
     ]
    }
   ],
   "source": [
    "def PR_iteration(v,m,b,n):\n",
    "    i = 0\n",
    "    e = (1 - b) * np.ones_like(v) / n\n",
    "    while(True):\n",
    "        v = b * np.dot(m,v) + e \n",
    "        i += 1\n",
    "        if i == 10:\n",
    "            break\n",
    "    return v\n",
    "        \n",
    "\n",
    "print(PR_iteration(pr,m,beta,num_of_nodes).flatten())"
   ]
  },
  {
   "cell_type": "markdown",
   "id": "850e7a4a",
   "metadata": {},
   "source": [
    "To save memory space, we can divide the matrices into blocks before multiplication or addition. \n",
    "\n",
    "For example, we can use only three memory slot to calculate the dot product of two matrices (assume that the two matrices are stored in disk, represented as disk_a and disk_b):"
   ]
  },
  {
   "cell_type": "code",
   "execution_count": 73,
   "id": "a3b7ab39",
   "metadata": {},
   "outputs": [],
   "source": [
    "def mult(disk_a,disk_b):\n",
    "    mem1,mem2,mem3 = 0,0,0\n",
    "    disk_c = np.zeros((disk_a.shape[0],disk_b.shape[1]))\n",
    "    for i in range(disk_c.shape[0]):\n",
    "        for j in range(disk_c.shape[1]):\n",
    "            for k in range(disk_a.shape[1]):\n",
    "                mem1 = disk_a[i][k]   #load from disk into memory\n",
    "                mem2 = disk_b[k][j]\n",
    "                mem3 += mem1*mem2\n",
    "            disk_c[i][j] = mem3    #update the data in disk\n",
    "            mem3 = 0\n",
    "    return disk_c"
   ]
  },
  {
   "cell_type": "markdown",
   "id": "4788995d",
   "metadata": {},
   "source": [
    "In the function above, the block size is 1. Although the memory space is saved, the I/O interaction between memory and disk becomes more frequent and may cost much time. In practice, the block size should be carefully considered.\n",
    "\n",
    "The result remains the same:"
   ]
  },
  {
   "cell_type": "code",
   "execution_count": 74,
   "id": "8fa37b65",
   "metadata": {},
   "outputs": [
    {
     "name": "stdout",
     "output_type": "stream",
     "text": [
      "[0.259259   0.30864234 0.43209865]\n"
     ]
    }
   ],
   "source": [
    "def PR_iteration(v,m,b,n):\n",
    "    i = 0\n",
    "    e = (1 - b) * np.ones_like(v) / n\n",
    "    while(True):\n",
    "        v = b * mult(m,v) + e \n",
    "        i += 1\n",
    "        if i == 10:\n",
    "            break\n",
    "    return v\n",
    "        \n",
    "\n",
    "print(PR_iteration(pr,m,beta,num_of_nodes).flatten())"
   ]
  },
  {
   "cell_type": "markdown",
   "id": "5db70a82",
   "metadata": {},
   "source": [
    "For topic sensitive PageRank, the formula becomes: v' = βMv + (1-β)s/|s|, where s indicates the relevance to the current topic.\n",
    "\n",
    "Assume that there are three topics: D,E and F. a and b are related to D, a and c are related to E, b is related to F. "
   ]
  },
  {
   "cell_type": "code",
   "execution_count": 75,
   "id": "11ff70bd",
   "metadata": {},
   "outputs": [
    {
     "name": "stdout",
     "output_type": "stream",
     "text": [
      "[0.33333333 0.33333333 0.33333333]\n"
     ]
    }
   ],
   "source": [
    "s_d = np.array([[1],[1],[0]],dtype = float)\n",
    "s_e = np.array([[1],[0],[1]],dtype = float)\n",
    "s_f = np.array([[0],[1],[0]],dtype = float)\n",
    "def init_pr(num_nodes):\n",
    "    pr = np.ones((num_nodes,1),dtype=float) / num_nodes\n",
    "    return pr\n",
    "pr = init_pr(num_of_nodes)\n",
    "print(pr.flatten())"
   ]
  },
  {
   "cell_type": "code",
   "execution_count": 77,
   "id": "0ef88b32",
   "metadata": {},
   "outputs": [
    {
     "name": "stdout",
     "output_type": "stream",
     "text": [
      "D: [0.31481475 0.32716058 0.35802466]\n",
      "E: [0.27777724 0.25926003 0.46296272]\n",
      "F: [0.22222252 0.40740698 0.3703705 ]\n"
     ]
    }
   ],
   "source": [
    "def PR_iteration_topic_sensitive(v,m,b,s):\n",
    "    i = 0\n",
    "    while(True):\n",
    "        v = b * np.dot(m,v) + (1-b)*s /np.sum(s)\n",
    "        i += 1\n",
    "        if i == 10:\n",
    "            break\n",
    "    return v\n",
    "        \n",
    "\n",
    "print(\"D:\",PR_iteration_topic_sensitive(pr,m,beta,s_d).flatten())\n",
    "print(\"E:\",PR_iteration_topic_sensitive(pr,m,beta,s_e).flatten())\n",
    "print(\"F:\",PR_iteration_topic_sensitive(pr,m,beta,s_f).flatten())"
   ]
  },
  {
   "cell_type": "code",
   "execution_count": null,
   "id": "658bae07",
   "metadata": {},
   "outputs": [],
   "source": []
  }
 ],
 "metadata": {
  "kernelspec": {
   "display_name": "Python 3",
   "language": "python",
   "name": "python3"
  },
  "language_info": {
   "codemirror_mode": {
    "name": "ipython",
    "version": 3
   },
   "file_extension": ".py",
   "mimetype": "text/x-python",
   "name": "python",
   "nbconvert_exporter": "python",
   "pygments_lexer": "ipython3",
   "version": "3.8.8"
  }
 },
 "nbformat": 4,
 "nbformat_minor": 5
}
