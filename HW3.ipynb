{
 "cells": [
  {
   "cell_type": "markdown",
   "id": "f5939df2",
   "metadata": {},
   "source": [
    "First, initialize the easy test data:"
   ]
  },
  {
   "cell_type": "code",
   "execution_count": 230,
   "id": "25366da1",
   "metadata": {},
   "outputs": [
    {
     "data": {
      "image/png": "[encoded data removed]",
      "text/plain": [
       "<Figure size 432x288 with 1 Axes>"
      ]
     },
     "metadata": {
      "needs_background": "light"
     },
     "output_type": "display_data"
    }
   ],
   "source": [
    "from matplotlib import pyplot as plt\n",
    "import numpy as np\n",
    "points = [[4,10],[7,10],[4,8],[6,8],[3,4],[2,2],[5,2],[10,5],[9,3],[12,3],[11,4],[12,6]]\n",
    "points = np.array(points)\n",
    "plt.scatter(points[:,0],points[:,1])\n",
    "plt.xlim(0,14)\n",
    "plt.ylim(0,12)\n",
    "plt.show()"
   ]
  },
  {
   "cell_type": "markdown",
   "id": "73a1b154",
   "metadata": {},
   "source": [
    "Let us start with the ideal case where the initial centroids are very far away from each other. To calculate the distance, use the following function:"
   ]
  },
  {
   "cell_type": "code",
   "execution_count": 231,
   "id": "ac2db57a",
   "metadata": {},
   "outputs": [],
   "source": [
    "k = 3\n",
    "centroids = [[4,10],[2,2],[12,3]]\n",
    "def dis(a,b):\n",
    "    return ((a[0]-b[0])**2+(a[1]-b[1])**2)**0.5"
   ]
  },
  {
   "cell_type": "markdown",
   "id": "ac8dff27",
   "metadata": {},
   "source": [
    "After one iteration, each point is assigned to one class:"
   ]
  },
  {
   "cell_type": "code",
   "execution_count": 232,
   "id": "6424f31f",
   "metadata": {},
   "outputs": [
    {
     "data": {
      "image/png": "[encoded data removed]",
      "text/plain": [
       "<Figure size 432x288 with 1 Axes>"
      ]
     },
     "metadata": {
      "needs_background": "light"
     },
     "output_type": "display_data"
    }
   ],
   "source": [
    "def assign(points,centroids,k):\n",
    "    classes = []\n",
    "    for point in points:\n",
    "        distances = [dis(point,centroids[i]) for i in range(k)]\n",
    "        classes.append(np.argmin(distances))\n",
    "    return classes\n",
    "colors = ['r','g','b']\n",
    "classes = assign(points,centroids,k)\n",
    "plt.scatter(points[:,0],points[:,1],c = [colors[i] for i in classes])\n",
    "plt.xlim(0,14)\n",
    "plt.ylim(0,12)\n",
    "plt.show()"
   ]
  },
  {
   "cell_type": "markdown",
   "id": "1d0f0644",
   "metadata": {},
   "source": [
    "Now update the centroids:"
   ]
  },
  {
   "cell_type": "code",
   "execution_count": 233,
   "id": "0ae18097",
   "metadata": {},
   "outputs": [
    {
     "name": "stdout",
     "output_type": "stream",
     "text": [
      "[[5.25, 9.0], [3.3333333333333335, 2.6666666666666665], [10.8, 4.2]]\n"
     ]
    }
   ],
   "source": [
    "def update(points,classes,k):\n",
    "    tmp_sum = []\n",
    "    tmp_count = []\n",
    "    for i in range(k):\n",
    "        tmp_sum.append([0,0])\n",
    "        tmp_count.append(0)\n",
    "    for i in range(len(points)):\n",
    "        tmp_sum[classes[i]][0] += points[i][0]\n",
    "        tmp_sum[classes[i]][1] += points[i][1]\n",
    "        tmp_count[classes[i]] += 1\n",
    "    return [[tmp_sum[i][0]/tmp_count[i],tmp_sum[i][1]/tmp_count[i]] for i in range(k)]\n",
    "centroids = update(points,classes,k)\n",
    "print(centroids)"
   ]
  },
  {
   "cell_type": "markdown",
   "id": "2ccaee70",
   "metadata": {},
   "source": [
    "So the k-means algorithm is implemented as follows:"
   ]
  },
  {
   "cell_type": "code",
   "execution_count": 234,
   "id": "dd624d7d",
   "metadata": {},
   "outputs": [
    {
     "data": {
      "image/png": "[encoded data removed]",
      "text/plain": [
       "<Figure size 432x288 with 1 Axes>"
      ]
     },
     "metadata": {
      "needs_background": "light"
     },
     "output_type": "display_data"
    }
   ],
   "source": [
    "def kmeans(points,centroids,k):\n",
    "    while(True):\n",
    "        classes = assign(points,centroids,k)\n",
    "        new_centroids = update(points,classes,k)\n",
    "        if(centroids==new_centroids):  #check whether centroid unchanged\n",
    "            break\n",
    "        centroids = new_centroids\n",
    "        print(centroids)\n",
    "    return classes\n",
    "colors = ['r','g','b']\n",
    "classes = kmeans(points,centroids,k)\n",
    "plt.scatter(points[:,0],points[:,1],c = [colors[i] for i in classes])\n",
    "plt.xlim(0,14)\n",
    "plt.ylim(0,12)\n",
    "plt.show()"
   ]
  },
  {
   "cell_type": "markdown",
   "id": "627c8598",
   "metadata": {},
   "source": [
    "Now test our code on a larger test set as shown below:"
   ]
  },
  {
   "cell_type": "code",
   "execution_count": 235,
   "id": "e7c91011",
   "metadata": {},
   "outputs": [
    {
     "data": {
      "image/png": "[encoded data removed]",
      "text/plain": [
       "<Figure size 432x288 with 1 Axes>"
      ]
     },
     "metadata": {
      "needs_background": "light"
     },
     "output_type": "display_data"
    }
   ],
   "source": [
    "points = [[3.275154, 2.957587], [-3.344465, 2.603513], [0.355083, -3.376585], [1.852435, 3.547351], [-2.078973, 2.552013],\n",
    "          [-0.993756, -0.884433], [2.682252, 4.007573], [-3.087776, 2.878713], [-1.565978, -1.256985], [2.441611, 0.444826],\n",
    "          [-0.659487, 3.111284], [-0.459601, -2.618005], [2.17768, 2.387793], [-2.920969, 2.917485], [-0.028814, -4.168078],\n",
    "          [3.625746, 2.119041], [-3.912363, 1.325108], [-0.551694, -2.814223], [2.855808, 3.483301], [-3.594448, 2.856651],\n",
    "          [0.421993, -2.372646], [1.650821, 3.407572], [-2.082902, 3.384412], [-0.718809, -2.492514], [4.513623, 3.841029],\n",
    "          [-4.822011, 4.607049], [-0.656297, -1.449872], [1.919901, 4.439368], [-3.287749, 3.918836], [-1.576936, -2.977622],\n",
    "          [3.598143, 1.97597], [-3.977329, 4.900932], [-1.79108, -2.184517], [3.914654, 3.559303], [-1.910108, 4.166946],\n",
    "          [-1.226597, -3.317889], [1.148946, 3.345138], [-2.113864, 3.548172], [0.845762, -3.589788], [2.629062, 3.535831], \n",
    "          [-1.640717, 2.990517], [-1.881012, -2.485405], [4.606999, 3.510312], [-4.366462, 4.023316], [0.765015, -3.00127],\n",
    "          [3.121904, 2.173988], [-4.025139, 4.65231], [-0.559558, -3.840539], [4.376754, 4.863579], [-1.874308, 4.032237], \n",
    "          [-0.089337, -3.026809], [3.997787, 2.518662], [-3.082978, 2.884822], [0.845235, -3.454465], [1.327224, 3.358778],\n",
    "          [-2.889949, 3.596178], [-0.966018, -2.839827], [2.960769, 3.079555], [-3.275518, 1.577068], [0.639276, -3.41284]]\n",
    "points = np.array(points)\n",
    "plt.scatter(points[:,0],points[:,1])\n",
    "plt.xlim(-6,6)\n",
    "plt.ylim(-6,6)\n",
    "plt.show()"
   ]
  },
  {
   "cell_type": "markdown",
   "id": "63d35f3e",
   "metadata": {},
   "source": [
    "We require 6 clusters this time and randomly initialize the centroids. We find that the clustering results and the number of iterations vary greatly given different initialization. (You can run the following block multiple times to check)"
   ]
  },
  {
   "cell_type": "code",
   "execution_count": 247,
   "id": "f4166355",
   "metadata": {},
   "outputs": [
    {
     "name": "stdout",
     "output_type": "stream",
     "text": [
      "centroids\n"
     ]
    },
    {
     "data": {
      "image/png": "[encoded data removed]",
      "text/plain": [
       "<Figure size 432x288 with 1 Axes>"
      ]
     },
     "metadata": {
      "needs_background": "light"
     },
     "output_type": "display_data"
    },
    {
     "name": "stdout",
     "output_type": "stream",
     "text": [
      "number of iterations: 5\n"
     ]
    },
    {
     "data": {
      "image/png": "[encoded data removed]",
      "text/plain": [
       "<Figure size 432x288 with 1 Axes>"
      ]
     },
     "metadata": {
      "needs_background": "light"
     },
     "output_type": "display_data"
    }
   ],
   "source": [
    "k = 6\n",
    "import random\n",
    "centroids = [list(points[i]) for i in random.sample(range(len(points)),k)]\n",
    "def dis(a,b):\n",
    "    return ((a[0]-b[0])**2+(a[1]-b[1])**2)**0.5\n",
    "print('centroids')\n",
    "plt.scatter(np.array(centroids)[:,0],np.array(centroids)[:,1])\n",
    "plt.xlim(-6,6)\n",
    "plt.ylim(-6,6)\n",
    "plt.show()\n",
    "\n",
    "def kmeans(points,centroids,k):\n",
    "    iters = 0\n",
    "    while(True):\n",
    "        classes = assign(points,centroids,k)\n",
    "        new_centroids = update(points,classes,k)\n",
    "        if(centroids==new_centroids):  #check whether centroid unchanged\n",
    "            print('number of iterations:',iters)\n",
    "            break\n",
    "        centroids = new_centroids\n",
    "        iters += 1\n",
    "    return classes\n",
    "colors = ['r','g','b','black','orange','pink','yellow']\n",
    "classes = kmeans(points,centroids,k)\n",
    "plt.scatter(points[:,0],points[:,1],c = [colors[i] for i in classes])\n",
    "plt.xlim(-6,6)\n",
    "plt.ylim(-6,6)\n",
    "plt.show()"
   ]
  },
  {
   "cell_type": "markdown",
   "id": "0e3f4953",
   "metadata": {},
   "source": [
    "Therefore, to improve clustering, we hope to (1) obtain similar and reasonable results each time, (2) fewer iterations are needed for clustering. To address this, an intuitive way is to make the initial centroids far from each other. \n",
    "\n",
    "K-means++ is a solution to this. Moreover, the first centroid can have a higher probability to be selected far from the center of all points. The improved K-means++ algorithm is implemented as follows:"
   ]
  },
  {
   "cell_type": "code",
   "execution_count": 257,
   "id": "511a5d16",
   "metadata": {},
   "outputs": [
    {
     "name": "stdout",
     "output_type": "stream",
     "text": [
      "centroids\n"
     ]
    },
    {
     "data": {
      "image/png": "[encoded data removed]",
      "text/plain": [
       "<Figure size 432x288 with 1 Axes>"
      ]
     },
     "metadata": {
      "needs_background": "light"
     },
     "output_type": "display_data"
    },
    {
     "name": "stdout",
     "output_type": "stream",
     "text": [
      "number of iterations: 3\n"
     ]
    },
    {
     "data": {
      "image/png": "[encoded data removed]",
      "text/plain": [
       "<Figure size 432x288 with 1 Axes>"
      ]
     },
     "metadata": {
      "needs_background": "light"
     },
     "output_type": "display_data"
    }
   ],
   "source": [
    "def dis(a,b):\n",
    "    return ((a[0]-b[0])**2+(a[1]-b[1])**2)**0.5\n",
    "\n",
    "import random\n",
    "def centroid_select(points,k):\n",
    "    centroids = [list(np.mean(points,axis = 0))]   #the centroid of all points\n",
    "    while(len(centroids)<=k):\n",
    "        dis_to_near_cen = []\n",
    "        for p in points:\n",
    "            tmp_dis = [dis(p,centroids[i])**2 for i in range(len(centroids))]\n",
    "            dis_to_near_cen.append(min(tmp_dis))\n",
    "        dis_to_near_cen = np.array(dis_to_near_cen)\n",
    "        dis_to_near_cen /= np.sum(dis_to_near_cen)\n",
    "        chosen = list(random.choices(points,weights = dis_to_near_cen,k=1)[0])\n",
    "        centroids.append(chosen)\n",
    "    return centroids[1:]              # the initial center is excluded\n",
    "k = 6\n",
    "centroids = centroid_select(points,k)\n",
    "print('centroids')\n",
    "plt.scatter(np.array(centroids)[:,0],np.array(centroids)[:,1])\n",
    "plt.xlim(-6,6)\n",
    "plt.ylim(-6,6)\n",
    "plt.show()\n",
    "\n",
    "\n",
    "\n",
    "def kmeans(points,centroids,k):\n",
    "    iters = 0\n",
    "    while(True):\n",
    "        classes = assign(points,centroids,k)\n",
    "        new_centroids = update(points,classes,k)\n",
    "        if(centroids==new_centroids):  #check whether centroid unchanged\n",
    "            print('number of iterations:',iters)\n",
    "            break\n",
    "        centroids = new_centroids\n",
    "        iters += 1\n",
    "    return classes\n",
    "colors = ['r','g','b','black','orange','pink','yellow']\n",
    "classes = kmeans(points,centroids,k)\n",
    "plt.scatter(points[:,0],points[:,1],c = [colors[i] for i in classes])\n",
    "plt.xlim(-6,6)\n",
    "plt.ylim(-6,6)\n",
    "plt.show()"
   ]
  },
  {
   "cell_type": "code",
   "execution_count": null,
   "id": "1a042ac3",
   "metadata": {},
   "outputs": [],
   "source": []
  }
 ],
 "metadata": {
  "kernelspec": {
   "display_name": "Python 3",
   "language": "python",
   "name": "python3"
  },
  "language_info": {
   "codemirror_mode": {
    "name": "ipython",
    "version": 3
   },
   "file_extension": ".py",
   "mimetype": "text/x-python",
   "name": "python",
   "nbconvert_exporter": "python",
   "pygments_lexer": "ipython3",
   "version": "3.8.8"
  }
 },
 "nbformat": 4,
 "nbformat_minor": 5
}
